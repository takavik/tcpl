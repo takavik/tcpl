{
 "cells": [
  {
   "attachments": {},
   "cell_type": "markdown",
   "metadata": {},
   "source": [
    "Exercise 1-2. Experiment to find out what happens when printf’s argument string contains \\c, where c is some character not listed above."
   ]
  },
  {
   "cell_type": "code",
   "execution_count": null,
   "metadata": {
    "vscode": {
     "languageId": "c"
    }
   },
   "outputs": [],
   "source": [
    "int main() {\n",
    "    printf(\"hello\\c, world\\n\");\n",
    "}"
   ]
  },
  {
   "attachments": {},
   "cell_type": "markdown",
   "metadata": {},
   "source": [
    "Exercise 1-8. Write a program to count blanks, tabs, and newlines."
   ]
  },
  {
   "cell_type": "code",
   "execution_count": null,
   "metadata": {
    "vscode": {
     "languageId": "c"
    }
   },
   "outputs": [],
   "source": [
    "#include <stdio.h>\n",
    "\n",
    "int main() {\n",
    "    int nb, nt, nl, nc, c;\n",
    "    \n",
    "    nb = nt = nl = nc = 0;\n",
    "    while ((c = getchar()) != EOF) {\n",
    "        nc++;\n",
    "        if (c == ' ') {\n",
    "            nb++;\n",
    "        } \n",
    "        if (c == '\\t') {\n",
    "            nt++;\n",
    "        } \n",
    "        if (c == '\\n') {\n",
    "            nl++;\n",
    "        }\n",
    "    }\n",
    "\n",
    "    printf(\"spaces: \\d\\n\", nb);\n",
    "    printf(\"tabs: \\d\\n\", nt);\n",
    "    printf(\"newlines: \\d\\n\", nl);\n",
    "    printf(\"chars: \\d\\n\", nc);    \n",
    "}"
   ]
  },
  {
   "attachments": {},
   "cell_type": "markdown",
   "metadata": {},
   "source": [
    "Exercise 1-9. Write a program to copy its input to its output, replacing each string of one or more blanks by a single blank."
   ]
  },
  {
   "cell_type": "code",
   "execution_count": null,
   "metadata": {
    "vscode": {
     "languageId": "c"
    }
   },
   "outputs": [],
   "source": [
    "#include <stdio.h>\n",
    "\n",
    "int main() {\n",
    "    int c, space;\n",
    "    \n",
    "    space = 0;\n",
    "    while ((c = getchar()) != EOF) {\n",
    "        if (c != ' ') {\n",
    "            if (space != 0) {\n",
    "                putchar(' ');\n",
    "            }\n",
    "            space = 0;\n",
    "            putchar(c);\n",
    "        } else {\n",
    "            if (space == 0) {\n",
    "                space = 1;\n",
    "            } \n",
    "        }\n",
    "    }\n",
    "}"
   ]
  },
  {
   "attachments": {},
   "cell_type": "markdown",
   "metadata": {},
   "source": [
    "Exercise 1-10. Write a program to copy its input to its output, replacing each tab by \\t, each backspace by \\b, and each backslash by \\\\. This makes tabs and backspaces visible in an unambiguous way."
   ]
  },
  {
   "cell_type": "code",
   "execution_count": null,
   "metadata": {
    "vscode": {
     "languageId": "c"
    }
   },
   "outputs": [],
   "source": [
    "#include <stdio.h>\n",
    "\n",
    "int main() {\n",
    "    int c;\n",
    "    while ((c = getchar()) != EOF) {\n",
    "        if ('\\t' == c) {\n",
    "            printf(\"\\\\t\");\n",
    "        } else if (' ' == c)  {\n",
    "            printf(\"\\\\b\");\n",
    "        } else if ('\\\\' == c) {\n",
    "            printf(\"\\\\\\\\\");\n",
    "        } else {\n",
    "            putchar(c);\n",
    "        }\n",
    "    }\n",
    "}"
   ]
  },
  {
   "attachments": {},
   "cell_type": "markdown",
   "metadata": {},
   "source": [
    "Exercise 1-12. Write a program that prints its input one word per line."
   ]
  },
  {
   "cell_type": "code",
   "execution_count": null,
   "metadata": {
    "vscode": {
     "languageId": "c"
    }
   },
   "outputs": [],
   "source": [
    "#include <stdio.h>\n",
    "\n",
    "#define WRD 0\n",
    "#define SPC 1\n",
    "\n",
    "int main() {\n",
    "    int state, c;\n",
    "    \n",
    "    while ((c = getchar()) != EOF) {\n",
    "        if (c != ' ' && c != '\\t' && c != '\\n') {\n",
    "            state = WRD;\n",
    "            putchar(c);\n",
    "        } else {\n",
    "            if (state == WRD) {\n",
    "                putchar('\\n');\n",
    "            }\n",
    "            state = SPC;\n",
    "        }\n",
    "    }\n",
    "}"
   ]
  },
  {
   "attachments": {},
   "cell_type": "markdown",
   "metadata": {},
   "source": [
    "Exercise 1-13. Write a program to print a histogram of the lengths of words in its input. It is easy to draw the histogram with the bars horizontal; a vertical orientation is more challenging."
   ]
  },
  {
   "cell_type": "code",
   "execution_count": null,
   "metadata": {
    "vscode": {
     "languageId": "c"
    }
   },
   "outputs": [],
   "source": [
    "#include <stdio.h>\n",
    "\n",
    "#define MAXLEN 20\n",
    "\n",
    "int main() {\n",
    "    int c, len, wc, word[MAXLEN+1];\n",
    "\n",
    "    for (int i = 1; i <= MAXLEN; i++) {\n",
    "        word[i] = 0;\n",
    "    }\n",
    "\n",
    "    wc = 0;\n",
    "    len = 0;\n",
    "    while ((c = getchar()) != EOF) {\n",
    "        if (c != ' ' && c != '\\t' && c != '\\n') { \n",
    "            len++;\n",
    "        } else {\n",
    "            if (len > 0) {\n",
    "                word[len]++;\n",
    "                len = 0;\n",
    "                wc++;\n",
    "            }\n",
    "        }\n",
    "    }\n",
    "\n",
    "    // Since it's nonsense to talk about word of length zero, it can be used to represent total count\n",
    "    word[0] = wc;\n",
    "\n",
    "    for (int i = wc; i >= 0; i--) {\n",
    "        if (i != 0) {\n",
    "            printf(\"%3d \", i);            \n",
    "        } else {\n",
    "            putchar(' ');\n",
    "            putchar(' ');\n",
    "            putchar(' ');\n",
    "            putchar(' '); // There is some problem here, figure out later why this is needed to make the columns align\n",
    "        }\n",
    "\n",
    "        for (int j = 0; j <= MAXLEN; j++) {\n",
    "            if (i != 0) {\n",
    "                putchar(' ');\n",
    "                putchar(' ');\n",
    "                if (i > word[j]) {\n",
    "                    putchar(' ');\n",
    "                } else {\n",
    "                    putchar('*');\n",
    "                }\n",
    "            } else {\n",
    "                printf(\"%3d\", j);\n",
    "            }\n",
    "            if (j == MAXLEN) {\n",
    "                putchar('\\n');\n",
    "            }\n",
    "             \n",
    "        } \n",
    "    }\n",
    "}"
   ]
  }
 ],
 "metadata": {
  "language_info": {
   "name": "python"
  },
  "orig_nbformat": 4
 },
 "nbformat": 4,
 "nbformat_minor": 2
}
